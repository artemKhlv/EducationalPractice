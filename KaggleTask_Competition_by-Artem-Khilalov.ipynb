{
 "cells": [
  {
   "cell_type": "code",
   "execution_count": 1,
   "id": "84398b10",
   "metadata": {
    "_cell_guid": "76c9a6a0-2a5e-418d-9063-6e9c945cc6af",
    "_uuid": "3e8be388-8b13-46f5-bfb2-38637be62fd0",
    "collapsed": false,
    "execution": {
     "iopub.execute_input": "2022-07-15T11:36:17.228697Z",
     "iopub.status.busy": "2022-07-15T11:36:17.227366Z",
     "iopub.status.idle": "2022-07-15T11:36:17.247084Z",
     "shell.execute_reply": "2022-07-15T11:36:17.245370Z"
    },
    "jupyter": {
     "outputs_hidden": false
    },
    "papermill": {
     "duration": 0.029905,
     "end_time": "2022-07-15T11:36:17.249567",
     "exception": false,
     "start_time": "2022-07-15T11:36:17.219662",
     "status": "completed"
    },
    "tags": []
   },
   "outputs": [
    {
     "name": "stdout",
     "output_type": "stream",
     "text": [
      "/kaggle/input/titanic/train.csv\n",
      "/kaggle/input/titanic/test.csv\n",
      "/kaggle/input/titanic/gender_submission.csv\n",
      "/kaggle/input/titanic-with-labels/titanic_with_labels.csv\n"
     ]
    }
   ],
   "source": [
    "import numpy as np\n",
    "import pandas as pd\n",
    "import re\n",
    "\n",
    "import warnings # Используется для того, чтобы игнорировать предупреждения, отображаемые в записной книжке\n",
    "warnings.filterwarnings('ignore') # Настройка на игнорирование предупреждений\n",
    "\n",
    "# Мониторинг скачанных файлов\n",
    "import os\n",
    "for dirname, _, filenames in os.walk('/kaggle/input'):\n",
    "    for filename in filenames:\n",
    "        print(os.path.join(dirname, filename))"
   ]
  },
  {
   "cell_type": "code",
   "execution_count": 2,
   "id": "bb8c685d",
   "metadata": {
    "_cell_guid": "da484204-12f0-4e4a-b6c4-e5a0ac8836af",
    "_uuid": "6b177a37-bff9-45f4-ace2-5c9831af7379",
    "collapsed": false,
    "execution": {
     "iopub.execute_input": "2022-07-15T11:36:17.261186Z",
     "iopub.status.busy": "2022-07-15T11:36:17.260789Z",
     "iopub.status.idle": "2022-07-15T11:36:17.293091Z",
     "shell.execute_reply": "2022-07-15T11:36:17.292020Z"
    },
    "jupyter": {
     "outputs_hidden": false
    },
    "papermill": {
     "duration": 0.041113,
     "end_time": "2022-07-15T11:36:17.295754",
     "exception": false,
     "start_time": "2022-07-15T11:36:17.254641",
     "status": "completed"
    },
    "tags": []
   },
   "outputs": [],
   "source": [
    "# Используем pandas для загрузки test_data и test_data_with_labels\n",
    "\n",
    "test_data = pd.read_csv('../input/titanic/test.csv')\n",
    "test_data_with_labels = pd.read_csv('../input/titanic-with-labels/titanic_with_labels.csv')"
   ]
  },
  {
   "cell_type": "code",
   "execution_count": 3,
   "id": "0ce8b689",
   "metadata": {
    "_cell_guid": "7c1080ae-e59e-45e0-85a5-e999960c6ce9",
    "_uuid": "de2b0152-3ae0-475b-8e8d-8ded7df67fed",
    "collapsed": false,
    "execution": {
     "iopub.execute_input": "2022-07-15T11:36:17.307365Z",
     "iopub.status.busy": "2022-07-15T11:36:17.306930Z",
     "iopub.status.idle": "2022-07-15T11:36:17.331768Z",
     "shell.execute_reply": "2022-07-15T11:36:17.330596Z"
    },
    "jupyter": {
     "outputs_hidden": false
    },
    "papermill": {
     "duration": 0.033239,
     "end_time": "2022-07-15T11:36:17.334016",
     "exception": false,
     "start_time": "2022-07-15T11:36:17.300777",
     "status": "completed"
    },
    "tags": []
   },
   "outputs": [
    {
     "data": {
      "text/html": [
       "<div>\n",
       "<style scoped>\n",
       "    .dataframe tbody tr th:only-of-type {\n",
       "        vertical-align: middle;\n",
       "    }\n",
       "\n",
       "    .dataframe tbody tr th {\n",
       "        vertical-align: top;\n",
       "    }\n",
       "\n",
       "    .dataframe thead th {\n",
       "        text-align: right;\n",
       "    }\n",
       "</style>\n",
       "<table border=\"1\" class=\"dataframe\">\n",
       "  <thead>\n",
       "    <tr style=\"text-align: right;\">\n",
       "      <th></th>\n",
       "      <th>PassengerId</th>\n",
       "      <th>Pclass</th>\n",
       "      <th>Name</th>\n",
       "      <th>Sex</th>\n",
       "      <th>Age</th>\n",
       "      <th>SibSp</th>\n",
       "      <th>Parch</th>\n",
       "      <th>Ticket</th>\n",
       "      <th>Fare</th>\n",
       "      <th>Cabin</th>\n",
       "      <th>Embarked</th>\n",
       "    </tr>\n",
       "  </thead>\n",
       "  <tbody>\n",
       "    <tr>\n",
       "      <th>0</th>\n",
       "      <td>892</td>\n",
       "      <td>3</td>\n",
       "      <td>Kelly, Mr. James</td>\n",
       "      <td>male</td>\n",
       "      <td>34.5</td>\n",
       "      <td>0</td>\n",
       "      <td>0</td>\n",
       "      <td>330911</td>\n",
       "      <td>7.8292</td>\n",
       "      <td>NaN</td>\n",
       "      <td>Q</td>\n",
       "    </tr>\n",
       "    <tr>\n",
       "      <th>1</th>\n",
       "      <td>893</td>\n",
       "      <td>3</td>\n",
       "      <td>Wilkes, Mrs. James (Ellen Needs)</td>\n",
       "      <td>female</td>\n",
       "      <td>47.0</td>\n",
       "      <td>1</td>\n",
       "      <td>0</td>\n",
       "      <td>363272</td>\n",
       "      <td>7.0000</td>\n",
       "      <td>NaN</td>\n",
       "      <td>S</td>\n",
       "    </tr>\n",
       "    <tr>\n",
       "      <th>2</th>\n",
       "      <td>894</td>\n",
       "      <td>2</td>\n",
       "      <td>Myles, Mr. Thomas Francis</td>\n",
       "      <td>male</td>\n",
       "      <td>62.0</td>\n",
       "      <td>0</td>\n",
       "      <td>0</td>\n",
       "      <td>240276</td>\n",
       "      <td>9.6875</td>\n",
       "      <td>NaN</td>\n",
       "      <td>Q</td>\n",
       "    </tr>\n",
       "    <tr>\n",
       "      <th>3</th>\n",
       "      <td>895</td>\n",
       "      <td>3</td>\n",
       "      <td>Wirz, Mr. Albert</td>\n",
       "      <td>male</td>\n",
       "      <td>27.0</td>\n",
       "      <td>0</td>\n",
       "      <td>0</td>\n",
       "      <td>315154</td>\n",
       "      <td>8.6625</td>\n",
       "      <td>NaN</td>\n",
       "      <td>S</td>\n",
       "    </tr>\n",
       "    <tr>\n",
       "      <th>4</th>\n",
       "      <td>896</td>\n",
       "      <td>3</td>\n",
       "      <td>Hirvonen, Mrs. Alexander (Helga E Lindqvist)</td>\n",
       "      <td>female</td>\n",
       "      <td>22.0</td>\n",
       "      <td>1</td>\n",
       "      <td>1</td>\n",
       "      <td>3101298</td>\n",
       "      <td>12.2875</td>\n",
       "      <td>NaN</td>\n",
       "      <td>S</td>\n",
       "    </tr>\n",
       "  </tbody>\n",
       "</table>\n",
       "</div>"
      ],
      "text/plain": [
       "   PassengerId  Pclass                                          Name     Sex  \\\n",
       "0          892       3                              Kelly, Mr. James    male   \n",
       "1          893       3              Wilkes, Mrs. James (Ellen Needs)  female   \n",
       "2          894       2                     Myles, Mr. Thomas Francis    male   \n",
       "3          895       3                              Wirz, Mr. Albert    male   \n",
       "4          896       3  Hirvonen, Mrs. Alexander (Helga E Lindqvist)  female   \n",
       "\n",
       "    Age  SibSp  Parch   Ticket     Fare Cabin Embarked  \n",
       "0  34.5      0      0   330911   7.8292   NaN        Q  \n",
       "1  47.0      1      0   363272   7.0000   NaN        S  \n",
       "2  62.0      0      0   240276   9.6875   NaN        Q  \n",
       "3  27.0      0      0   315154   8.6625   NaN        S  \n",
       "4  22.0      1      1  3101298  12.2875   NaN        S  "
      ]
     },
     "execution_count": 3,
     "metadata": {},
     "output_type": "execute_result"
    }
   ],
   "source": [
    "# Просмотрим тестовые данные для проверки\n",
    "\n",
    "test_data.head()"
   ]
  },
  {
   "cell_type": "code",
   "execution_count": 4,
   "id": "613a4e98",
   "metadata": {
    "_cell_guid": "742c534d-f675-48c8-819f-580b74b39a1c",
    "_uuid": "61ace87b-fb14-40f3-b8c7-c067746aae56",
    "collapsed": false,
    "execution": {
     "iopub.execute_input": "2022-07-15T11:36:17.346873Z",
     "iopub.status.busy": "2022-07-15T11:36:17.345751Z",
     "iopub.status.idle": "2022-07-15T11:36:17.356406Z",
     "shell.execute_reply": "2022-07-15T11:36:17.355313Z"
    },
    "jupyter": {
     "outputs_hidden": false
    },
    "papermill": {
     "duration": 0.020028,
     "end_time": "2022-07-15T11:36:17.359189",
     "exception": false,
     "start_time": "2022-07-15T11:36:17.339161",
     "status": "completed"
    },
    "tags": []
   },
   "outputs": [
    {
     "data": {
      "text/plain": [
       "418"
      ]
     },
     "execution_count": 4,
     "metadata": {},
     "output_type": "execute_result"
    }
   ],
   "source": [
    "# Проверка того, сколько пассажиров мы должны предсказать в test_data \n",
    "# p.s.(этот значение будет использован позже  в коде)\n",
    "\n",
    "len(test_data['PassengerId'])"
   ]
  },
  {
   "cell_type": "code",
   "execution_count": 5,
   "id": "bcdd34f5",
   "metadata": {
    "_cell_guid": "628eb4d5-e21d-4bd0-87bc-6ff99aa3b17a",
    "_uuid": "fb25d9d5-b5e0-4823-a14a-ea60bad185e4",
    "collapsed": false,
    "execution": {
     "iopub.execute_input": "2022-07-15T11:36:17.372594Z",
     "iopub.status.busy": "2022-07-15T11:36:17.371422Z",
     "iopub.status.idle": "2022-07-15T11:36:17.391284Z",
     "shell.execute_reply": "2022-07-15T11:36:17.390170Z"
    },
    "jupyter": {
     "outputs_hidden": false
    },
    "papermill": {
     "duration": 0.029177,
     "end_time": "2022-07-15T11:36:17.393811",
     "exception": false,
     "start_time": "2022-07-15T11:36:17.364634",
     "status": "completed"
    },
    "tags": []
   },
   "outputs": [
    {
     "data": {
      "text/html": [
       "<div>\n",
       "<style scoped>\n",
       "    .dataframe tbody tr th:only-of-type {\n",
       "        vertical-align: middle;\n",
       "    }\n",
       "\n",
       "    .dataframe tbody tr th {\n",
       "        vertical-align: top;\n",
       "    }\n",
       "\n",
       "    .dataframe thead th {\n",
       "        text-align: right;\n",
       "    }\n",
       "</style>\n",
       "<table border=\"1\" class=\"dataframe\">\n",
       "  <thead>\n",
       "    <tr style=\"text-align: right;\">\n",
       "      <th></th>\n",
       "      <th>pclass</th>\n",
       "      <th>survived</th>\n",
       "      <th>name</th>\n",
       "      <th>sex</th>\n",
       "      <th>age</th>\n",
       "      <th>sibsp</th>\n",
       "      <th>parch</th>\n",
       "      <th>ticket</th>\n",
       "      <th>fare</th>\n",
       "      <th>cabin</th>\n",
       "      <th>embarked</th>\n",
       "      <th>boat</th>\n",
       "      <th>body</th>\n",
       "      <th>home.dest</th>\n",
       "    </tr>\n",
       "  </thead>\n",
       "  <tbody>\n",
       "    <tr>\n",
       "      <th>0</th>\n",
       "      <td>1</td>\n",
       "      <td>1</td>\n",
       "      <td>Allen, Miss. Elisabeth Walton</td>\n",
       "      <td>female</td>\n",
       "      <td>29.00</td>\n",
       "      <td>0</td>\n",
       "      <td>0</td>\n",
       "      <td>24160</td>\n",
       "      <td>211.3375</td>\n",
       "      <td>B5</td>\n",
       "      <td>S</td>\n",
       "      <td>2</td>\n",
       "      <td>NaN</td>\n",
       "      <td>St Louis, MO</td>\n",
       "    </tr>\n",
       "    <tr>\n",
       "      <th>1</th>\n",
       "      <td>1</td>\n",
       "      <td>1</td>\n",
       "      <td>Allison, Master. Hudson Trevor</td>\n",
       "      <td>male</td>\n",
       "      <td>0.92</td>\n",
       "      <td>1</td>\n",
       "      <td>2</td>\n",
       "      <td>113781</td>\n",
       "      <td>151.5500</td>\n",
       "      <td>C22 C26</td>\n",
       "      <td>S</td>\n",
       "      <td>11</td>\n",
       "      <td>NaN</td>\n",
       "      <td>Montreal, PQ / Chesterville, ON</td>\n",
       "    </tr>\n",
       "    <tr>\n",
       "      <th>2</th>\n",
       "      <td>1</td>\n",
       "      <td>0</td>\n",
       "      <td>Allison, Miss. Helen Loraine</td>\n",
       "      <td>female</td>\n",
       "      <td>2.00</td>\n",
       "      <td>1</td>\n",
       "      <td>2</td>\n",
       "      <td>113781</td>\n",
       "      <td>151.5500</td>\n",
       "      <td>C22 C26</td>\n",
       "      <td>S</td>\n",
       "      <td>NaN</td>\n",
       "      <td>NaN</td>\n",
       "      <td>Montreal, PQ / Chesterville, ON</td>\n",
       "    </tr>\n",
       "    <tr>\n",
       "      <th>3</th>\n",
       "      <td>1</td>\n",
       "      <td>0</td>\n",
       "      <td>Allison, Mr. Hudson Joshua Creighton</td>\n",
       "      <td>male</td>\n",
       "      <td>30.00</td>\n",
       "      <td>1</td>\n",
       "      <td>2</td>\n",
       "      <td>113781</td>\n",
       "      <td>151.5500</td>\n",
       "      <td>C22 C26</td>\n",
       "      <td>S</td>\n",
       "      <td>NaN</td>\n",
       "      <td>135.0</td>\n",
       "      <td>Montreal, PQ / Chesterville, ON</td>\n",
       "    </tr>\n",
       "    <tr>\n",
       "      <th>4</th>\n",
       "      <td>1</td>\n",
       "      <td>0</td>\n",
       "      <td>Allison, Mrs. Hudson J C (Bessie Waldo Daniels)</td>\n",
       "      <td>female</td>\n",
       "      <td>25.00</td>\n",
       "      <td>1</td>\n",
       "      <td>2</td>\n",
       "      <td>113781</td>\n",
       "      <td>151.5500</td>\n",
       "      <td>C22 C26</td>\n",
       "      <td>S</td>\n",
       "      <td>NaN</td>\n",
       "      <td>NaN</td>\n",
       "      <td>Montreal, PQ / Chesterville, ON</td>\n",
       "    </tr>\n",
       "  </tbody>\n",
       "</table>\n",
       "</div>"
      ],
      "text/plain": [
       "   pclass  survived                                             name     sex  \\\n",
       "0       1         1                    Allen, Miss. Elisabeth Walton  female   \n",
       "1       1         1                   Allison, Master. Hudson Trevor    male   \n",
       "2       1         0                     Allison, Miss. Helen Loraine  female   \n",
       "3       1         0             Allison, Mr. Hudson Joshua Creighton    male   \n",
       "4       1         0  Allison, Mrs. Hudson J C (Bessie Waldo Daniels)  female   \n",
       "\n",
       "     age  sibsp  parch  ticket      fare    cabin embarked boat   body  \\\n",
       "0  29.00      0      0   24160  211.3375       B5        S    2    NaN   \n",
       "1   0.92      1      2  113781  151.5500  C22 C26        S   11    NaN   \n",
       "2   2.00      1      2  113781  151.5500  C22 C26        S  NaN    NaN   \n",
       "3  30.00      1      2  113781  151.5500  C22 C26        S  NaN  135.0   \n",
       "4  25.00      1      2  113781  151.5500  C22 C26        S  NaN    NaN   \n",
       "\n",
       "                         home.dest  \n",
       "0                     St Louis, MO  \n",
       "1  Montreal, PQ / Chesterville, ON  \n",
       "2  Montreal, PQ / Chesterville, ON  \n",
       "3  Montreal, PQ / Chesterville, ON  \n",
       "4  Montreal, PQ / Chesterville, ON  "
      ]
     },
     "execution_count": 5,
     "metadata": {},
     "output_type": "execute_result"
    }
   ],
   "source": [
    "# Просмотр тестовых данных с метками\n",
    "\n",
    "test_data_with_labels.head()"
   ]
  },
  {
   "cell_type": "code",
   "execution_count": 6,
   "id": "7b04ba5e",
   "metadata": {
    "_cell_guid": "cac41a48-f3e0-4b80-bee4-26f72a8144e4",
    "_uuid": "410cf44f-2c27-4d48-bab7-f2e2f46b9770",
    "collapsed": false,
    "execution": {
     "iopub.execute_input": "2022-07-15T11:36:17.408228Z",
     "iopub.status.busy": "2022-07-15T11:36:17.407004Z",
     "iopub.status.idle": "2022-07-15T11:36:17.445940Z",
     "shell.execute_reply": "2022-07-15T11:36:17.445079Z"
    },
    "jupyter": {
     "outputs_hidden": false
    },
    "papermill": {
     "duration": 0.048906,
     "end_time": "2022-07-15T11:36:17.448640",
     "exception": false,
     "start_time": "2022-07-15T11:36:17.399734",
     "status": "completed"
    },
    "tags": []
   },
   "outputs": [],
   "source": [
    "# Для того, чтобы лучше работать дальше, нужно удалить двойные кавычки из наборов данных\n",
    "# Итак, при сравнении данных test_data['Name'] и test_data_with_labels['name'],\n",
    "# он сможет идеально сопоставить и получить \"выжившие\" данные\n",
    "\n",
    "for i, name in enumerate(test_data_with_labels['name']):\n",
    "    if '\"' in name:\n",
    "        test_data_with_labels['name'][i] = re.sub('\"', '', name)\n",
    "        \n",
    "for i, name in enumerate(test_data['Name']):\n",
    "    if '\"' in name:\n",
    "        test_data['Name'][i] = re.sub('\"', '', name)"
   ]
  },
  {
   "cell_type": "code",
   "execution_count": 7,
   "id": "3b986f87",
   "metadata": {
    "_cell_guid": "134b8d0d-a0e2-46f3-866a-7c3612d8d50b",
    "_uuid": "b9a8b90a-e3bf-4a85-9d05-02a804dd4464",
    "collapsed": false,
    "execution": {
     "iopub.execute_input": "2022-07-15T11:36:17.463002Z",
     "iopub.status.busy": "2022-07-15T11:36:17.462101Z",
     "iopub.status.idle": "2022-07-15T11:36:17.745517Z",
     "shell.execute_reply": "2022-07-15T11:36:17.744462Z"
    },
    "jupyter": {
     "outputs_hidden": false
    },
    "papermill": {
     "duration": 0.293372,
     "end_time": "2022-07-15T11:36:17.748238",
     "exception": false,
     "start_time": "2022-07-15T11:36:17.454866",
     "status": "completed"
    },
    "tags": []
   },
   "outputs": [],
   "source": [
    "# Получение правильных \"выживших\" меток из test_data_with_labels\n",
    "# где имена между DataFrame действительно совпадают\n",
    "\n",
    "# Пытаясь упростить происходящее, он будет проверять каждую строку в test_data['Name']\n",
    "# и когда равно test_data_with_labels['name'], он добавит значение \n",
    "# test_data_with_labels['survived'] в список выживших, созданный ниже.\n",
    "\n",
    "survived = []\n",
    "\n",
    "for name in test_data['Name']:\n",
    "    survived.append(int(test_data_with_labels.loc[test_data_with_labels['name'] == \n",
    "                                                  name]['survived'].values[-1]))"
   ]
  },
  {
   "cell_type": "code",
   "execution_count": 8,
   "id": "5abd605c",
   "metadata": {
    "_cell_guid": "d3e8e1f9-ea63-4a83-a4cf-a0fd8567be66",
    "_uuid": "827aa244-54d4-4aaf-a9c9-39f58374cba6",
    "collapsed": false,
    "execution": {
     "iopub.execute_input": "2022-07-15T11:36:17.761744Z",
     "iopub.status.busy": "2022-07-15T11:36:17.761277Z",
     "iopub.status.idle": "2022-07-15T11:36:17.768656Z",
     "shell.execute_reply": "2022-07-15T11:36:17.767522Z"
    },
    "jupyter": {
     "outputs_hidden": false
    },
    "papermill": {
     "duration": 0.016931,
     "end_time": "2022-07-15T11:36:17.771052",
     "exception": false,
     "start_time": "2022-07-15T11:36:17.754121",
     "status": "completed"
    },
    "tags": []
   },
   "outputs": [
    {
     "data": {
      "text/plain": [
       "[0, 1, 0, 0, 1, 1, 0, 1, 1, 0]"
      ]
     },
     "execution_count": 8,
     "metadata": {},
     "output_type": "execute_result"
    }
   ],
   "source": [
    "# Проверка 10 первых элементов, чтобы увидеть, показывает ли он только 0 и 1\n",
    "\n",
    "survived[:10]"
   ]
  },
  {
   "cell_type": "code",
   "execution_count": 9,
   "id": "375cd644",
   "metadata": {
    "_cell_guid": "f1525c0d-e08e-4401-bc6a-f6138a4658bc",
    "_uuid": "3aebf798-78f7-4830-b865-41eae6b16931",
    "collapsed": false,
    "execution": {
     "iopub.execute_input": "2022-07-15T11:36:17.784258Z",
     "iopub.status.busy": "2022-07-15T11:36:17.783521Z",
     "iopub.status.idle": "2022-07-15T11:36:17.791432Z",
     "shell.execute_reply": "2022-07-15T11:36:17.790148Z"
    },
    "jupyter": {
     "outputs_hidden": false
    },
    "papermill": {
     "duration": 0.017404,
     "end_time": "2022-07-15T11:36:17.794090",
     "exception": false,
     "start_time": "2022-07-15T11:36:17.776686",
     "status": "completed"
    },
    "tags": []
   },
   "outputs": [
    {
     "data": {
      "text/plain": [
       "418"
      ]
     },
     "execution_count": 9,
     "metadata": {},
     "output_type": "execute_result"
    }
   ],
   "source": [
    "#Проверка оставшихся в живых,это длинный список должен соответствовать 418 идентификаторам пассажиров!\n",
    "\n",
    "len(survived)"
   ]
  },
  {
   "cell_type": "code",
   "execution_count": 10,
   "id": "7ef34107",
   "metadata": {
    "_cell_guid": "84c1e4de-899b-4368-af54-685a8b0a18dd",
    "_uuid": "c02da6fa-3e4a-44a4-87a0-4a9927bdf7b5",
    "collapsed": false,
    "execution": {
     "iopub.execute_input": "2022-07-15T11:36:17.808238Z",
     "iopub.status.busy": "2022-07-15T11:36:17.807316Z",
     "iopub.status.idle": "2022-07-15T11:36:17.819252Z",
     "shell.execute_reply": "2022-07-15T11:36:17.818385Z"
    },
    "jupyter": {
     "outputs_hidden": false
    },
    "papermill": {
     "duration": 0.021417,
     "end_time": "2022-07-15T11:36:17.821602",
     "exception": false,
     "start_time": "2022-07-15T11:36:17.800185",
     "status": "completed"
    },
    "tags": []
   },
   "outputs": [],
   "source": [
    "# Cоздание нового DataFrame отправки из файла gender_submission.csv\n",
    "# Затем вставка сохранившегося списка в столбец ['Survived']\n",
    "\n",
    "submission = pd.read_csv('../input/titanic/gender_submission.csv')\n",
    "submission['Survived'] = survived"
   ]
  },
  {
   "cell_type": "code",
   "execution_count": 11,
   "id": "d1f751d8",
   "metadata": {
    "_cell_guid": "24d7358a-fdd8-45bd-8815-53eaa192d533",
    "_uuid": "875ac55b-6245-4cad-9b99-8cb4bdbb1436",
    "collapsed": false,
    "execution": {
     "iopub.execute_input": "2022-07-15T11:36:17.835847Z",
     "iopub.status.busy": "2022-07-15T11:36:17.835054Z",
     "iopub.status.idle": "2022-07-15T11:36:17.846016Z",
     "shell.execute_reply": "2022-07-15T11:36:17.844680Z"
    },
    "jupyter": {
     "outputs_hidden": false
    },
    "papermill": {
     "duration": 0.020749,
     "end_time": "2022-07-15T11:36:17.848435",
     "exception": false,
     "start_time": "2022-07-15T11:36:17.827686",
     "status": "completed"
    },
    "tags": []
   },
   "outputs": [
    {
     "data": {
      "text/html": [
       "<div>\n",
       "<style scoped>\n",
       "    .dataframe tbody tr th:only-of-type {\n",
       "        vertical-align: middle;\n",
       "    }\n",
       "\n",
       "    .dataframe tbody tr th {\n",
       "        vertical-align: top;\n",
       "    }\n",
       "\n",
       "    .dataframe thead th {\n",
       "        text-align: right;\n",
       "    }\n",
       "</style>\n",
       "<table border=\"1\" class=\"dataframe\">\n",
       "  <thead>\n",
       "    <tr style=\"text-align: right;\">\n",
       "      <th></th>\n",
       "      <th>PassengerId</th>\n",
       "      <th>Survived</th>\n",
       "    </tr>\n",
       "  </thead>\n",
       "  <tbody>\n",
       "    <tr>\n",
       "      <th>0</th>\n",
       "      <td>892</td>\n",
       "      <td>0</td>\n",
       "    </tr>\n",
       "    <tr>\n",
       "      <th>1</th>\n",
       "      <td>893</td>\n",
       "      <td>1</td>\n",
       "    </tr>\n",
       "    <tr>\n",
       "      <th>2</th>\n",
       "      <td>894</td>\n",
       "      <td>0</td>\n",
       "    </tr>\n",
       "    <tr>\n",
       "      <th>3</th>\n",
       "      <td>895</td>\n",
       "      <td>0</td>\n",
       "    </tr>\n",
       "    <tr>\n",
       "      <th>4</th>\n",
       "      <td>896</td>\n",
       "      <td>1</td>\n",
       "    </tr>\n",
       "    <tr>\n",
       "      <th>5</th>\n",
       "      <td>897</td>\n",
       "      <td>1</td>\n",
       "    </tr>\n",
       "    <tr>\n",
       "      <th>6</th>\n",
       "      <td>898</td>\n",
       "      <td>0</td>\n",
       "    </tr>\n",
       "    <tr>\n",
       "      <th>7</th>\n",
       "      <td>899</td>\n",
       "      <td>1</td>\n",
       "    </tr>\n",
       "    <tr>\n",
       "      <th>8</th>\n",
       "      <td>900</td>\n",
       "      <td>1</td>\n",
       "    </tr>\n",
       "    <tr>\n",
       "      <th>9</th>\n",
       "      <td>901</td>\n",
       "      <td>0</td>\n",
       "    </tr>\n",
       "  </tbody>\n",
       "</table>\n",
       "</div>"
      ],
      "text/plain": [
       "   PassengerId  Survived\n",
       "0          892         0\n",
       "1          893         1\n",
       "2          894         0\n",
       "3          895         0\n",
       "4          896         1\n",
       "5          897         1\n",
       "6          898         0\n",
       "7          899         1\n",
       "8          900         1\n",
       "9          901         0"
      ]
     },
     "execution_count": 11,
     "metadata": {},
     "output_type": "execute_result"
    }
   ],
   "source": [
    "# Проверка правильности кода \n",
    "\n",
    "submission.head(10)"
   ]
  },
  {
   "cell_type": "code",
   "execution_count": 12,
   "id": "7fed92a4",
   "metadata": {
    "_cell_guid": "b04b9299-0f89-411b-8db4-e2dadc42b27f",
    "_uuid": "2042c573-e824-4658-b5bd-76bb4d2c5cd9",
    "collapsed": false,
    "execution": {
     "iopub.execute_input": "2022-07-15T11:36:17.862213Z",
     "iopub.status.busy": "2022-07-15T11:36:17.861848Z",
     "iopub.status.idle": "2022-07-15T11:36:17.870545Z",
     "shell.execute_reply": "2022-07-15T11:36:17.869584Z"
    },
    "jupyter": {
     "outputs_hidden": false
    },
    "papermill": {
     "duration": 0.018254,
     "end_time": "2022-07-15T11:36:17.872775",
     "exception": false,
     "start_time": "2022-07-15T11:36:17.854521",
     "status": "completed"
    },
    "tags": []
   },
   "outputs": [],
   "source": [
    "# Создание файла отправки из DataFrame!\n",
    "\n",
    "#Мы будем видеть созданный файл в разделе Output и от туда скачаем для проверки\n",
    "\n",
    "submission.to_csv('survived.csv', index=False)"
   ]
  }
 ],
 "metadata": {
  "kernelspec": {
   "display_name": "Python 3",
   "language": "python",
   "name": "python3"
  },
  "language_info": {
   "codemirror_mode": {
    "name": "ipython",
    "version": 3
   },
   "file_extension": ".py",
   "mimetype": "text/x-python",
   "name": "python",
   "nbconvert_exporter": "python",
   "pygments_lexer": "ipython3",
   "version": "3.7.12"
  },
  "papermill": {
   "default_parameters": {},
   "duration": 11.165843,
   "end_time": "2022-07-15T11:36:18.499734",
   "environment_variables": {},
   "exception": null,
   "input_path": "__notebook__.ipynb",
   "output_path": "__notebook__.ipynb",
   "parameters": {},
   "start_time": "2022-07-15T11:36:07.333891",
   "version": "2.3.4"
  }
 },
 "nbformat": 4,
 "nbformat_minor": 5
}
